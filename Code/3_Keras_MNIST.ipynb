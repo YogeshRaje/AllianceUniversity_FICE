{
 "cells": [
  {
   "cell_type": "markdown",
   "metadata": {},
   "source": [
    "## Handwritten Image Detection with Keras using MNIST data\n",
    "\n",
    "In this exercise we will work with image data: specifically the famous MNIST data set.  This data set contains 70,000 images of handwritten digits in grayscale (0=black, 255 = white).  The images are 28 pixels by 28 pixels for a total of 784 pixels.  This is quite small by image standards.  Also, the images are well centered and isolated.  This makes this problem solvable with standard fully connected neural nets without too much pre-work."
   ]
  },
  {
   "cell_type": "markdown",
   "metadata": {},
   "source": [
    "In the first part of this notebook, we will walk you through loading in the data, building a network, and training it.  Then it will be your turn to try different models and see if you can improve performance"
   ]
  },
  {
   "cell_type": "code",
   "execution_count": 1,
   "metadata": {},
   "outputs": [],
   "source": [
    "# Preliminaries\n",
    "\n",
    "from __future__ import print_function\n",
    "\n",
    "import keras\n",
    "from keras.datasets import mnist\n",
    "from keras.models import Sequential\n",
    "from keras.layers import Dense, Dropout\n",
    "from keras.optimizers import RMSprop\n",
    "\n",
    "import numpy as np\n",
    "import matplotlib.pyplot as plt\n",
    "%matplotlib inline"
   ]
  },
  {
   "cell_type": "markdown",
   "metadata": {},
   "source": [
    "Let's explore the dataset a little bit"
   ]
  },
  {
   "cell_type": "code",
   "execution_count": 2,
   "metadata": {
    "jupyter": {
     "outputs_hidden": false
    }
   },
   "outputs": [],
   "source": [
    "# Load the data, shuffled and split between train and test sets\n",
    "(x_train, y_train), (x_test, y_test) = mnist.load_data()"
   ]
  },
  {
   "cell_type": "code",
   "execution_count": 3,
   "metadata": {
    "jupyter": {
     "outputs_hidden": false
    }
   },
   "outputs": [
    {
     "data": {
      "text/plain": [
       "(28, 28)"
      ]
     },
     "execution_count": 3,
     "metadata": {},
     "output_type": "execute_result"
    }
   ],
   "source": [
    "x_train[0].shape"
   ]
  },
  {
   "cell_type": "code",
   "execution_count": 4,
   "metadata": {
    "jupyter": {
     "outputs_hidden": false
    }
   },
   "outputs": [
    {
     "data": {
      "text/plain": [
       "array([[  0,   0,   0,   0,   0,   0,   0,   0,   0,   0,   0,   0,   0,\n",
       "          0,   0,   0,   0,   0,   0,   0,   0,   0,   0,   0,   0,   0,\n",
       "          0,   0],\n",
       "       [  0,   0,   0,   0,   0,   0,   0,   0,   0,   0,   0,   0,   0,\n",
       "          0,   0,   0,   0,   0,   0,   0,   0,   0,   0,   0,   0,   0,\n",
       "          0,   0],\n",
       "       [  0,   0,   0,   0,   0,   0,   0,   0,   0,   0,   0,   0,   0,\n",
       "          0,   0,   0,   0,   0,   0,   0,   0,   0,   0,   0,   0,   0,\n",
       "          0,   0],\n",
       "       [  0,   0,   0,   0,   0,   0,   0,   0,   0,   0,   0,   0,   0,\n",
       "          0,   0,   0,   0,   0,   0,   0,   0,   0,   0,   0,   0,   0,\n",
       "          0,   0],\n",
       "       [  0,   0,   0,   0,   0,   0,   0,   0,   0,   0,   0,   0,   0,\n",
       "          0,   0,   0,   0,   0,   0,   0,   0,   0,   0,   0,   0,   0,\n",
       "          0,   0],\n",
       "       [  0,   0,   0,   0,   0,   0,   0,   0,   0,   0,   0,  87, 138,\n",
       "        170, 253, 201, 244, 212, 222, 138,  86,  22,   0,   0,   0,   0,\n",
       "          0,   0],\n",
       "       [  0,   0,   0,   0,   0,   0,   0,   0,   0,   0,  95, 253, 252,\n",
       "        252, 252, 252, 253, 252, 252, 252, 252, 245,  80,   0,   0,   0,\n",
       "          0,   0],\n",
       "       [  0,   0,   0,   0,   0,   0,   0,   0,   0,  68, 246, 205,  69,\n",
       "         69,  69,  69,  69,  69,  69,  69, 205, 253, 240,  50,   0,   0,\n",
       "          0,   0],\n",
       "       [  0,   0,   0,   0,   0,   0,   0,   0,   0, 187, 252, 218,  34,\n",
       "          0,   0,   0,   0,   0,   0,   0, 116, 253, 252,  69,   0,   0,\n",
       "          0,   0],\n",
       "       [  0,   0,   0,   0,   0,   0,   0,   0, 116, 248, 252, 253,  92,\n",
       "          0,   0,   0,   0,   0,   0,  95, 230, 253, 157,   6,   0,   0,\n",
       "          0,   0],\n",
       "       [  0,   0,   0,   0,   0,   0,   0,   0, 116, 249, 253, 189,  42,\n",
       "          0,   0,   0,   0,  36, 170, 253, 243, 158,   0,   0,   0,   0,\n",
       "          0,   0],\n",
       "       [  0,   0,   0,   0,   0,   0,   0,   0,   0, 133, 252, 245, 140,\n",
       "         34,   0,   0,  57, 219, 252, 235,  60,   0,   0,   0,   0,   0,\n",
       "          0,   0],\n",
       "       [  0,   0,   0,   0,   0,   0,   0,   0,   0,  25, 205, 253, 252,\n",
       "        234, 184, 184, 253, 240, 100,  44,   0,   0,   0,   0,   0,   0,\n",
       "          0,   0],\n",
       "       [  0,   0,   0,   0,   0,   0,   0,   0,   0,   0,  21, 161, 219,\n",
       "        252, 252, 252, 234,  37,   0,   0,   0,   0,   0,   0,   0,   0,\n",
       "          0,   0],\n",
       "       [  0,   0,   0,   0,   0,   0,   0,   0,   0,   0,   0,  11, 203,\n",
       "        252, 252, 252, 251, 135,   0,   0,   0,   0,   0,   0,   0,   0,\n",
       "          0,   0],\n",
       "       [  0,   0,   0,   0,   0,   0,   0,   0,   0,   9,  76, 255, 253,\n",
       "        205, 168, 220, 255, 253, 137,   5,   0,   0,   0,   0,   0,   0,\n",
       "          0,   0],\n",
       "       [  0,   0,   0,   0,   0,   0,   0,   0,   0, 114, 252, 249, 132,\n",
       "         25,   0,   0, 180, 252, 252,  45,   0,   0,   0,   0,   0,   0,\n",
       "          0,   0],\n",
       "       [  0,   0,   0,   0,   0,   0,   0,   0,  51, 220, 252, 199,   0,\n",
       "          0,   0,   0,  38, 186, 252, 154,   7,   0,   0,   0,   0,   0,\n",
       "          0,   0],\n",
       "       [  0,   0,   0,   0,   0,   0,   0,   0, 184, 252, 252,  21,   0,\n",
       "          0,   0,   0,   0,  67, 252, 252,  22,   0,   0,   0,   0,   0,\n",
       "          0,   0],\n",
       "       [  0,   0,   0,   0,   0,   0,   0,   0, 184, 252, 200,   0,   0,\n",
       "          0,   0,   0,   0,  47, 252, 252,  22,   0,   0,   0,   0,   0,\n",
       "          0,   0],\n",
       "       [  0,   0,   0,   0,   0,   0,   0,   0, 185, 253, 201,   0,   0,\n",
       "          0,   0,   0,   3, 118, 253, 245,  21,   0,   0,   0,   0,   0,\n",
       "          0,   0],\n",
       "       [  0,   0,   0,   0,   0,   0,   0,   0, 163, 252, 252,   0,   0,\n",
       "          0,   0,   0,  97, 252, 252,  87,   0,   0,   0,   0,   0,   0,\n",
       "          0,   0],\n",
       "       [  0,   0,   0,   0,   0,   0,   0,   0,  51, 240, 252, 123,  70,\n",
       "         70, 112, 184, 222, 252, 170,  13,   0,   0,   0,   0,   0,   0,\n",
       "          0,   0],\n",
       "       [  0,   0,   0,   0,   0,   0,   0,   0,   0, 165, 252, 253, 252,\n",
       "        252, 252, 252, 245, 139,  13,   0,   0,   0,   0,   0,   0,   0,\n",
       "          0,   0],\n",
       "       [  0,   0,   0,   0,   0,   0,   0,   0,   0,   9,  75, 253, 252,\n",
       "        221, 137, 137,  21,   0,   0,   0,   0,   0,   0,   0,   0,   0,\n",
       "          0,   0],\n",
       "       [  0,   0,   0,   0,   0,   0,   0,   0,   0,   0,   0,   0,   0,\n",
       "          0,   0,   0,   0,   0,   0,   0,   0,   0,   0,   0,   0,   0,\n",
       "          0,   0],\n",
       "       [  0,   0,   0,   0,   0,   0,   0,   0,   0,   0,   0,   0,   0,\n",
       "          0,   0,   0,   0,   0,   0,   0,   0,   0,   0,   0,   0,   0,\n",
       "          0,   0],\n",
       "       [  0,   0,   0,   0,   0,   0,   0,   0,   0,   0,   0,   0,   0,\n",
       "          0,   0,   0,   0,   0,   0,   0,   0,   0,   0,   0,   0,   0,\n",
       "          0,   0]], dtype=uint8)"
      ]
     },
     "execution_count": 4,
     "metadata": {},
     "output_type": "execute_result"
    }
   ],
   "source": [
    "#Let's just look at a particular example to see what is inside\n",
    "\n",
    "x_train[333]  ## Just a 28 x 28 numpy array of ints from 0 to 255"
   ]
  },
  {
   "cell_type": "code",
   "execution_count": 5,
   "metadata": {
    "jupyter": {
     "outputs_hidden": false
    }
   },
   "outputs": [
    {
     "data": {
      "text/plain": [
       "8"
      ]
     },
     "execution_count": 5,
     "metadata": {},
     "output_type": "execute_result"
    }
   ],
   "source": [
    "# What is the corresponding label in the training set?\n",
    "y_train[333]"
   ]
  },
  {
   "cell_type": "code",
   "execution_count": 6,
   "metadata": {
    "jupyter": {
     "outputs_hidden": false
    }
   },
   "outputs": [
    {
     "data": {
      "text/plain": [
       "<matplotlib.image.AxesImage at 0x24c64f581f0>"
      ]
     },
     "execution_count": 6,
     "metadata": {},
     "output_type": "execute_result"
    },
    {
     "data": {
      "image/png": "[encoded data removed]",
      "text/plain": [
       "<Figure size 432x288 with 1 Axes>"
      ]
     },
     "metadata": {
      "needs_background": "light"
     },
     "output_type": "display_data"
    }
   ],
   "source": [
    "# Let's see what this image actually looks like\n",
    "\n",
    "plt.imshow(x_train[333], cmap='Greys_r')"
   ]
  },
  {
   "cell_type": "code",
   "execution_count": 7,
   "metadata": {
    "jupyter": {
     "outputs_hidden": false
    }
   },
   "outputs": [
    {
     "name": "stdout",
     "output_type": "stream",
     "text": [
      "(60000, 28, 28) train samples\n",
      "(10000, 28, 28) test samples\n"
     ]
    }
   ],
   "source": [
    "# this is the shape of the np.array x_train\n",
    "# it is 3 dimensional.\n",
    "print(x_train.shape, 'train samples')\n",
    "print(x_test.shape, 'test samples')"
   ]
  },
  {
   "cell_type": "code",
   "execution_count": 8,
   "metadata": {
    "jupyter": {
     "outputs_hidden": false
    }
   },
   "outputs": [],
   "source": [
    "## For our purposes, these images are just a vector of 784 inputs, so let's convert\n",
    "x_train = x_train.reshape(len(x_train), 28*28)\n",
    "x_test = x_test.reshape(len(x_test), 28*28)\n",
    "\n",
    "## Keras works with floats, so we must cast the numbers to floats\n",
    "x_train = x_train.astype('float32')\n",
    "x_test = x_test.astype('float32')\n",
    "\n",
    "## Normalize the inputs so they are between 0 and 1\n",
    "x_train /= 255\n",
    "x_test /= 255\n"
   ]
  },
  {
   "cell_type": "code",
   "execution_count": 9,
   "metadata": {
    "jupyter": {
     "outputs_hidden": false
    }
   },
   "outputs": [
    {
     "data": {
      "text/plain": [
       "array([0., 0., 0., 0., 0., 0., 0., 0., 1., 0.], dtype=float32)"
      ]
     },
     "execution_count": 9,
     "metadata": {},
     "output_type": "execute_result"
    }
   ],
   "source": [
    "# convert class vectors to binary class matrices\n",
    "num_classes = 10\n",
    "y_train = keras.utils.to_categorical(y_train, num_classes)\n",
    "y_test = keras.utils.to_categorical(y_test, num_classes)\n",
    "\n",
    "y_train[333]  # now the digit k is represented by a 1 in the kth entry (0-indexed) of the length 10 vector"
   ]
  },
  {
   "cell_type": "code",
   "execution_count": 10,
   "metadata": {},
   "outputs": [],
   "source": [
    "# We will build a model with two hidden layers of size 512\n",
    "# Fully connected inputs at each layer\n",
    "# We will use dropout of .2 to help regularize\n",
    "model_1 = Sequential()\n",
    "model_1.add(Dense(64, activation='relu', input_shape=(784,)))\n",
    "model_1.add(Dropout(0.2))\n",
    "model_1.add(Dense(64, activation='relu'))\n",
    "model_1.add(Dropout(0.2))\n",
    "model_1.add(Dense(10, activation='softmax'))"
   ]
  },
  {
   "cell_type": "code",
   "execution_count": 11,
   "metadata": {
    "jupyter": {
     "outputs_hidden": false
    }
   },
   "outputs": [
    {
     "name": "stdout",
     "output_type": "stream",
     "text": [
      "Model: \"sequential\"\n",
      "_________________________________________________________________\n",
      " Layer (type)                Output Shape              Param #   \n",
      "=================================================================\n",
      " dense (Dense)               (None, 64)                50240     \n",
      "                                                                 \n",
      " dropout (Dropout)           (None, 64)                0         \n",
      "                                                                 \n",
      " dense_1 (Dense)             (None, 64)                4160      \n",
      "                                                                 \n",
      " dropout_1 (Dropout)         (None, 64)                0         \n",
      "                                                                 \n",
      " dense_2 (Dense)             (None, 10)                650       \n",
      "                                                                 \n",
      "=================================================================\n",
      "Total params: 55,050\n",
      "Trainable params: 55,050\n",
      "Non-trainable params: 0\n",
      "_________________________________________________________________\n"
     ]
    }
   ],
   "source": [
    "## Note that this model has a LOT of parameters\n",
    "model_1.summary()"
   ]
  },
  {
   "cell_type": "code",
   "execution_count": 12,
   "metadata": {},
   "outputs": [
    {
     "name": "stderr",
     "output_type": "stream",
     "text": [
      "C:\\Users\\user\\anaconda3\\lib\\site-packages\\keras\\optimizers\\optimizer_v2\\rmsprop.py:135: UserWarning: The `lr` argument is deprecated, use `learning_rate` instead.\n",
      "  super(RMSprop, self).__init__(name, **kwargs)\n"
     ]
    }
   ],
   "source": [
    "# Let's compile the model\n",
    "learning_rate = .001\n",
    "model_1.compile(loss='categorical_crossentropy',\n",
    "              optimizer=RMSprop(lr=learning_rate),\n",
    "              metrics=['accuracy'])\n",
    "# note that `categorical cross entropy` is the natural generalization \n",
    "# of the loss function we had in binary classification case, to multi class case"
   ]
  },
  {
   "cell_type": "code",
   "execution_count": 13,
   "metadata": {
    "jupyter": {
     "outputs_hidden": false
    }
   },
   "outputs": [
    {
     "name": "stdout",
     "output_type": "stream",
     "text": [
      "Epoch 1/30\n",
      "469/469 [==============================] - 5s 8ms/step - loss: 0.4945 - accuracy: 0.8531 - val_loss: 0.2004 - val_accuracy: 0.9378\n",
      "Epoch 2/30\n",
      "469/469 [==============================] - 3s 7ms/step - loss: 0.2475 - accuracy: 0.9278 - val_loss: 0.1504 - val_accuracy: 0.9519\n",
      "Epoch 3/30\n",
      "469/469 [==============================] - 3s 7ms/step - loss: 0.1989 - accuracy: 0.9418 - val_loss: 0.1267 - val_accuracy: 0.9602\n",
      "Epoch 4/30\n",
      "469/469 [==============================] - 3s 7ms/step - loss: 0.1731 - accuracy: 0.9488 - val_loss: 0.1171 - val_accuracy: 0.9626\n",
      "Epoch 5/30\n",
      "469/469 [==============================] - 3s 7ms/step - loss: 0.1539 - accuracy: 0.9548 - val_loss: 0.1050 - val_accuracy: 0.9670\n",
      "Epoch 6/30\n",
      "469/469 [==============================] - 3s 7ms/step - loss: 0.1427 - accuracy: 0.9571 - val_loss: 0.1050 - val_accuracy: 0.9696\n",
      "Epoch 7/30\n",
      "469/469 [==============================] - 3s 7ms/step - loss: 0.1339 - accuracy: 0.9599 - val_loss: 0.0934 - val_accuracy: 0.9718\n",
      "Epoch 8/30\n",
      "469/469 [==============================] - 3s 7ms/step - loss: 0.1273 - accuracy: 0.9618 - val_loss: 0.0951 - val_accuracy: 0.9725\n",
      "Epoch 9/30\n",
      "469/469 [==============================] - 3s 7ms/step - loss: 0.1214 - accuracy: 0.9628 - val_loss: 0.1001 - val_accuracy: 0.9717\n",
      "Epoch 10/30\n",
      "469/469 [==============================] - 3s 7ms/step - loss: 0.1157 - accuracy: 0.9658 - val_loss: 0.0951 - val_accuracy: 0.9732\n",
      "Epoch 11/30\n",
      "469/469 [==============================] - 3s 7ms/step - loss: 0.1105 - accuracy: 0.9666 - val_loss: 0.0923 - val_accuracy: 0.9724\n",
      "Epoch 12/30\n",
      "469/469 [==============================] - 3s 6ms/step - loss: 0.1058 - accuracy: 0.9677 - val_loss: 0.0863 - val_accuracy: 0.9755\n",
      "Epoch 13/30\n",
      "469/469 [==============================] - 3s 6ms/step - loss: 0.1068 - accuracy: 0.9682 - val_loss: 0.0939 - val_accuracy: 0.9743\n",
      "Epoch 14/30\n",
      "469/469 [==============================] - 3s 6ms/step - loss: 0.1020 - accuracy: 0.9699 - val_loss: 0.0870 - val_accuracy: 0.9763\n",
      "Epoch 15/30\n",
      "469/469 [==============================] - 3s 6ms/step - loss: 0.0981 - accuracy: 0.9711 - val_loss: 0.0896 - val_accuracy: 0.9751\n",
      "Epoch 16/30\n",
      "469/469 [==============================] - 3s 6ms/step - loss: 0.0969 - accuracy: 0.9706 - val_loss: 0.0932 - val_accuracy: 0.9748\n",
      "Epoch 17/30\n",
      "469/469 [==============================] - 3s 6ms/step - loss: 0.0985 - accuracy: 0.9708 - val_loss: 0.0945 - val_accuracy: 0.9738\n",
      "Epoch 18/30\n",
      "469/469 [==============================] - 3s 6ms/step - loss: 0.0925 - accuracy: 0.9729 - val_loss: 0.0959 - val_accuracy: 0.9742\n",
      "Epoch 19/30\n",
      "469/469 [==============================] - 3s 6ms/step - loss: 0.0893 - accuracy: 0.9733 - val_loss: 0.0936 - val_accuracy: 0.9749\n",
      "Epoch 20/30\n",
      "469/469 [==============================] - 3s 6ms/step - loss: 0.0905 - accuracy: 0.9734 - val_loss: 0.0993 - val_accuracy: 0.9749\n",
      "Epoch 21/30\n",
      "469/469 [==============================] - 3s 6ms/step - loss: 0.0878 - accuracy: 0.9744 - val_loss: 0.0939 - val_accuracy: 0.9755\n",
      "Epoch 22/30\n",
      "469/469 [==============================] - 3s 6ms/step - loss: 0.0867 - accuracy: 0.9747 - val_loss: 0.0956 - val_accuracy: 0.9769\n",
      "Epoch 23/30\n",
      "469/469 [==============================] - 3s 6ms/step - loss: 0.0876 - accuracy: 0.9739 - val_loss: 0.0978 - val_accuracy: 0.9758\n",
      "Epoch 24/30\n",
      "469/469 [==============================] - 3s 6ms/step - loss: 0.0873 - accuracy: 0.9744 - val_loss: 0.0998 - val_accuracy: 0.9755\n",
      "Epoch 25/30\n",
      "469/469 [==============================] - 3s 6ms/step - loss: 0.0865 - accuracy: 0.9747 - val_loss: 0.1041 - val_accuracy: 0.9744\n",
      "Epoch 26/30\n",
      "469/469 [==============================] - 3s 6ms/step - loss: 0.0869 - accuracy: 0.9747 - val_loss: 0.1024 - val_accuracy: 0.9760\n",
      "Epoch 27/30\n",
      "469/469 [==============================] - 3s 6ms/step - loss: 0.0839 - accuracy: 0.9755 - val_loss: 0.0983 - val_accuracy: 0.9767\n",
      "Epoch 28/30\n",
      "469/469 [==============================] - 3s 6ms/step - loss: 0.0850 - accuracy: 0.9755 - val_loss: 0.0969 - val_accuracy: 0.9764\n",
      "Epoch 29/30\n",
      "469/469 [==============================] - 3s 6ms/step - loss: 0.0816 - accuracy: 0.9768 - val_loss: 0.1040 - val_accuracy: 0.9768\n",
      "Epoch 30/30\n",
      "469/469 [==============================] - 3s 6ms/step - loss: 0.0831 - accuracy: 0.9755 - val_loss: 0.1064 - val_accuracy: 0.9756\n"
     ]
    }
   ],
   "source": [
    "# And now let's fit.\n",
    "\n",
    "batch_size = 128  # mini-batch with 128 examples\n",
    "epochs = 30\n",
    "history = model_1.fit(\n",
    "    x_train, y_train,\n",
    "    batch_size=batch_size,\n",
    "    epochs=epochs,\n",
    "    verbose=1,\n",
    "    validation_data=(x_test, y_test))"
   ]
  },
  {
   "cell_type": "code",
   "execution_count": 14,
   "metadata": {
    "jupyter": {
     "outputs_hidden": false
    }
   },
   "outputs": [
    {
     "name": "stdout",
     "output_type": "stream",
     "text": [
      "Test loss: 0.10644602030515671\n",
      "Test accuracy: 0.975600004196167\n"
     ]
    }
   ],
   "source": [
    "## We will use Keras evaluate function to evaluate performance on the test set\n",
    "\n",
    "score = model_1.evaluate(x_test, y_test, verbose=0)\n",
    "print('Test loss:', score[0])\n",
    "print('Test accuracy:', score[1])"
   ]
  },
  {
   "cell_type": "code",
   "execution_count": 15,
   "metadata": {
    "jupyter": {
     "outputs_hidden": false
    }
   },
   "outputs": [
    {
     "data": {
      "image/png": "[encoded data removed]",
      "text/plain": [
       "<Figure size 864x432 with 2 Axes>"
      ]
     },
     "metadata": {
      "needs_background": "light"
     },
     "output_type": "display_data"
    }
   ],
   "source": [
    "def plot_loss_accuracy(history):\n",
    "    fig = plt.figure(figsize=(12, 6))\n",
    "    ax = fig.add_subplot(1, 2, 1)\n",
    "    ax.plot(history.history[\"loss\"],'r-x', label=\"Train Loss\")\n",
    "    ax.plot(history.history[\"val_loss\"],'b-x', label=\"Validation Loss\")\n",
    "    ax.legend()\n",
    "    ax.set_title('cross_entropy loss')\n",
    "    ax.grid(True)\n",
    "\n",
    "\n",
    "    ax = fig.add_subplot(1, 2, 2)\n",
    "    ax.plot(history.history[\"accuracy\"],'r-x', label=\"Train Accuracy\")\n",
    "    ax.plot(history.history[\"val_accuracy\"],'b-x', label=\"Validation Accuracy\")\n",
    "    ax.legend()\n",
    "    ax.set_title('accuracy')\n",
    "    ax.grid(True)\n",
    "    \n",
    "\n",
    "plot_loss_accuracy(history)"
   ]
  },
  {
   "cell_type": "markdown",
   "metadata": {},
   "source": [
    "This is reasonably good performance, but we can do even better!  Next you will build an even bigger network and compare the performance."
   ]
  },
  {
   "cell_type": "markdown",
   "metadata": {},
   "source": [
    "## Student Exercise\n",
    "### Your Turn: Build your own model\n",
    "Use the Keras \"Sequential\" functionality to build `model_2` with the following specifications:\n",
    "\n",
    "1. Two hidden layers.\n",
    "2. First hidden layer of size 400 and second of size 300\n",
    "3. Dropout of .4 at each layer\n",
    "4. How many parameters does your model have?  How does it compare with the previous model?\n",
    "4. Train this model for 20 epochs with RMSProp at a learning rate of .001 and a batch size of 128\n",
    "\n",
    "\n"
   ]
  },
  {
   "cell_type": "code",
   "execution_count": 16,
   "metadata": {},
   "outputs": [],
   "source": [
    "### Build your model here\n"
   ]
  },
  {
   "cell_type": "code",
   "execution_count": null,
   "metadata": {},
   "outputs": [],
   "source": []
  },
  {
   "cell_type": "code",
   "execution_count": null,
   "metadata": {},
   "outputs": [],
   "source": []
  },
  {
   "cell_type": "code",
   "execution_count": null,
   "metadata": {},
   "outputs": [],
   "source": []
  },
  {
   "cell_type": "markdown",
   "metadata": {},
   "source": [
    "## SOLUTION"
   ]
  },
  {
   "cell_type": "code",
   "execution_count": 17,
   "metadata": {
    "jupyter": {
     "outputs_hidden": false
    }
   },
   "outputs": [
    {
     "name": "stdout",
     "output_type": "stream",
     "text": [
      "Model: \"sequential_1\"\n",
      "_________________________________________________________________\n",
      " Layer (type)                Output Shape              Param #   \n",
      "=================================================================\n",
      " dense_3 (Dense)             (None, 400)               314000    \n",
      "                                                                 \n",
      " dropout_2 (Dropout)         (None, 400)               0         \n",
      "                                                                 \n",
      " dense_4 (Dense)             (None, 300)               120300    \n",
      "                                                                 \n",
      " dropout_3 (Dropout)         (None, 300)               0         \n",
      "                                                                 \n",
      " dense_5 (Dense)             (None, 10)                3010      \n",
      "                                                                 \n",
      "=================================================================\n",
      "Total params: 437,310\n",
      "Trainable params: 437,310\n",
      "Non-trainable params: 0\n",
      "_________________________________________________________________\n"
     ]
    }
   ],
   "source": [
    "model_2 = Sequential()\n",
    "model_2.add(Dense(400, activation='relu', input_shape=(784,)))\n",
    "model_2.add(Dropout(0.4))\n",
    "model_2.add(Dense(300, activation='relu', input_shape=(784,)))\n",
    "model_2.add(Dropout(0.4))\n",
    "model_2.add(Dense(10, activation='softmax'))\n",
    "\n",
    "model_2.summary()"
   ]
  },
  {
   "cell_type": "code",
   "execution_count": 18,
   "metadata": {
    "jupyter": {
     "outputs_hidden": false
    }
   },
   "outputs": [
    {
     "name": "stdout",
     "output_type": "stream",
     "text": [
      "Epoch 1/20\n",
      "469/469 [==============================] - 11s 20ms/step - loss: 0.3262 - accuracy: 0.9008 - val_loss: 0.1170 - val_accuracy: 0.9638\n",
      "Epoch 2/20\n",
      "469/469 [==============================] - 9s 20ms/step - loss: 0.1501 - accuracy: 0.9547 - val_loss: 0.1040 - val_accuracy: 0.9684\n",
      "Epoch 3/20\n",
      "469/469 [==============================] - 8s 17ms/step - loss: 0.1151 - accuracy: 0.9659 - val_loss: 0.0882 - val_accuracy: 0.9743\n",
      "Epoch 4/20\n",
      "469/469 [==============================] - 8s 16ms/step - loss: 0.0996 - accuracy: 0.9708 - val_loss: 0.0808 - val_accuracy: 0.9772\n",
      "Epoch 5/20\n",
      "469/469 [==============================] - 8s 16ms/step - loss: 0.0886 - accuracy: 0.9739 - val_loss: 0.0946 - val_accuracy: 0.9761\n",
      "Epoch 6/20\n",
      "469/469 [==============================] - 8s 17ms/step - loss: 0.0804 - accuracy: 0.9772 - val_loss: 0.0735 - val_accuracy: 0.9801\n",
      "Epoch 7/20\n",
      "469/469 [==============================] - 7s 15ms/step - loss: 0.0781 - accuracy: 0.9785 - val_loss: 0.0730 - val_accuracy: 0.9805\n",
      "Epoch 8/20\n",
      "469/469 [==============================] - 7s 15ms/step - loss: 0.0724 - accuracy: 0.9796 - val_loss: 0.0771 - val_accuracy: 0.9821\n",
      "Epoch 9/20\n",
      "469/469 [==============================] - 7s 14ms/step - loss: 0.0677 - accuracy: 0.9811 - val_loss: 0.0846 - val_accuracy: 0.9811\n",
      "Epoch 10/20\n",
      "469/469 [==============================] - 7s 15ms/step - loss: 0.0650 - accuracy: 0.9818 - val_loss: 0.0828 - val_accuracy: 0.9791\n",
      "Epoch 11/20\n",
      "469/469 [==============================] - 7s 15ms/step - loss: 0.0616 - accuracy: 0.9825 - val_loss: 0.0782 - val_accuracy: 0.9828\n",
      "Epoch 12/20\n",
      "469/469 [==============================] - 7s 15ms/step - loss: 0.0594 - accuracy: 0.9843 - val_loss: 0.0857 - val_accuracy: 0.9808\n",
      "Epoch 13/20\n",
      "469/469 [==============================] - 7s 15ms/step - loss: 0.0564 - accuracy: 0.9848 - val_loss: 0.0830 - val_accuracy: 0.9817\n",
      "Epoch 14/20\n",
      "469/469 [==============================] - 7s 15ms/step - loss: 0.0574 - accuracy: 0.9852 - val_loss: 0.0803 - val_accuracy: 0.9826\n",
      "Epoch 15/20\n",
      "469/469 [==============================] - 7s 14ms/step - loss: 0.0554 - accuracy: 0.9851 - val_loss: 0.0862 - val_accuracy: 0.9820\n",
      "Epoch 16/20\n",
      "469/469 [==============================] - 7s 15ms/step - loss: 0.0549 - accuracy: 0.9854 - val_loss: 0.0867 - val_accuracy: 0.9829\n",
      "Epoch 17/20\n",
      "469/469 [==============================] - 7s 15ms/step - loss: 0.0568 - accuracy: 0.9854 - val_loss: 0.0861 - val_accuracy: 0.9828\n",
      "Epoch 18/20\n",
      "469/469 [==============================] - 7s 15ms/step - loss: 0.0519 - accuracy: 0.9859 - val_loss: 0.0893 - val_accuracy: 0.9831\n",
      "Epoch 19/20\n",
      "469/469 [==============================] - 7s 15ms/step - loss: 0.0514 - accuracy: 0.9864 - val_loss: 0.0951 - val_accuracy: 0.9832\n",
      "Epoch 20/20\n",
      "469/469 [==============================] - 7s 15ms/step - loss: 0.0484 - accuracy: 0.9878 - val_loss: 0.0901 - val_accuracy: 0.9831\n",
      "\n",
      "Test loss: 0.0900561586022377\n",
      "Test accuracy: 0.9830999970436096\n"
     ]
    }
   ],
   "source": [
    "batch_size = 128\n",
    "epochs = 20\n",
    "learning_rate = .001\n",
    "\n",
    "\n",
    "model_2.compile(loss='categorical_crossentropy',\n",
    "              optimizer=RMSprop(lr = learning_rate),\n",
    "              metrics=['accuracy'])\n",
    "\n",
    "history = model_2.fit(x_train, y_train,\n",
    "                    batch_size=batch_size,\n",
    "                    epochs=epochs,\n",
    "                    verbose=1,\n",
    "                    validation_data=(x_test, y_test))\n",
    "score = model_2.evaluate(x_test, y_test, verbose=0)\n",
    "print('')\n",
    "print('Test loss:', score[0])\n",
    "print('Test accuracy:', score[1])"
   ]
  },
  {
   "cell_type": "code",
   "execution_count": 19,
   "metadata": {
    "jupyter": {
     "outputs_hidden": false
    }
   },
   "outputs": [
    {
     "data": {
      "image/png": "[encoded data removed]",
      "text/plain": [
       "<Figure size 864x432 with 2 Axes>"
      ]
     },
     "metadata": {
      "needs_background": "light"
     },
     "output_type": "display_data"
    }
   ],
   "source": [
    "plot_loss_accuracy(history)"
   ]
  },
  {
   "cell_type": "markdown",
   "metadata": {},
   "source": [
    "## Think about the following questions\n",
    "\n",
    "1) How do model_1 and model_2 compare?  Which do you prefer?  If you were going to put one into production, which would you choose and why?\n",
    "\n",
    "2) Compare the trajectories of the loss function on the training set and test set for each model?  How do they compare?  What does that suggest about each model?  Do the same for accuracy?  Which do you think is more meaningful, the loss or the accuracy?\n",
    "\n",
    "3) Suggest an improvement to one of the models (changing structure, learning rate, number of epochs, etc.) that you think will result in a better model.  Try it out below?  Did it improve the performance?"
   ]
  },
  {
   "cell_type": "code",
   "execution_count": 20,
   "metadata": {
    "jupyter": {
     "outputs_hidden": false
    }
   },
   "outputs": [],
   "source": [
    "model_3 = Sequential()\n",
    "model_3.add(Dense(400, activation='relu', input_shape=(784,)))\n",
    "model_3.add(Dropout(0.1))\n",
    "model_3.add(Dense(300, activation='relu', input_shape=(784,)))\n",
    "model_3.add(Dropout(0.1))\n",
    "model_3.add(Dense(10, activation='softmax'))"
   ]
  },
  {
   "cell_type": "code",
   "execution_count": 21,
   "metadata": {
    "jupyter": {
     "outputs_hidden": false
    }
   },
   "outputs": [
    {
     "name": "stdout",
     "output_type": "stream",
     "text": [
      "Epoch 1/25\n",
      "469/469 [==============================] - 8s 15ms/step - loss: 0.6224 - accuracy: 0.8428 - val_loss: 0.2726 - val_accuracy: 0.9225\n",
      "Epoch 2/25\n",
      "469/469 [==============================] - 7s 14ms/step - loss: 0.2641 - accuracy: 0.9239 - val_loss: 0.1994 - val_accuracy: 0.9420\n",
      "Epoch 3/25\n",
      "469/469 [==============================] - 7s 15ms/step - loss: 0.2028 - accuracy: 0.9417 - val_loss: 0.1619 - val_accuracy: 0.9510\n",
      "Epoch 4/25\n",
      "469/469 [==============================] - 7s 14ms/step - loss: 0.1660 - accuracy: 0.9513 - val_loss: 0.1363 - val_accuracy: 0.9584\n",
      "Epoch 5/25\n",
      "469/469 [==============================] - 7s 14ms/step - loss: 0.1392 - accuracy: 0.9598 - val_loss: 0.1223 - val_accuracy: 0.9634\n",
      "Epoch 6/25\n",
      "469/469 [==============================] - 7s 14ms/step - loss: 0.1212 - accuracy: 0.9645 - val_loss: 0.1094 - val_accuracy: 0.9671\n",
      "Epoch 7/25\n",
      "469/469 [==============================] - 7s 14ms/step - loss: 0.1057 - accuracy: 0.9690 - val_loss: 0.0991 - val_accuracy: 0.9695\n",
      "Epoch 8/25\n",
      "469/469 [==============================] - 7s 14ms/step - loss: 0.0954 - accuracy: 0.9719 - val_loss: 0.0914 - val_accuracy: 0.9724\n",
      "Epoch 9/25\n",
      "469/469 [==============================] - 7s 14ms/step - loss: 0.0859 - accuracy: 0.9747 - val_loss: 0.0868 - val_accuracy: 0.9733\n",
      "Epoch 10/25\n",
      "469/469 [==============================] - 7s 14ms/step - loss: 0.0785 - accuracy: 0.9765 - val_loss: 0.0816 - val_accuracy: 0.9759\n",
      "Epoch 11/25\n",
      "469/469 [==============================] - 7s 14ms/step - loss: 0.0714 - accuracy: 0.9789 - val_loss: 0.0781 - val_accuracy: 0.9765\n",
      "Epoch 12/25\n",
      "469/469 [==============================] - 7s 15ms/step - loss: 0.0651 - accuracy: 0.9808 - val_loss: 0.0736 - val_accuracy: 0.9775\n",
      "Epoch 13/25\n",
      "469/469 [==============================] - 7s 15ms/step - loss: 0.0595 - accuracy: 0.9830 - val_loss: 0.0736 - val_accuracy: 0.9770\n",
      "Epoch 14/25\n",
      "469/469 [==============================] - 7s 15ms/step - loss: 0.0555 - accuracy: 0.9835 - val_loss: 0.0712 - val_accuracy: 0.9781\n",
      "Epoch 15/25\n",
      "469/469 [==============================] - 7s 15ms/step - loss: 0.0512 - accuracy: 0.9850 - val_loss: 0.0685 - val_accuracy: 0.9795\n",
      "Epoch 16/25\n",
      "469/469 [==============================] - 7s 15ms/step - loss: 0.0465 - accuracy: 0.9861 - val_loss: 0.0673 - val_accuracy: 0.9795\n",
      "Epoch 17/25\n",
      "469/469 [==============================] - 7s 15ms/step - loss: 0.0429 - accuracy: 0.9869 - val_loss: 0.0666 - val_accuracy: 0.9803\n",
      "Epoch 18/25\n",
      "469/469 [==============================] - 9s 18ms/step - loss: 0.0408 - accuracy: 0.9881 - val_loss: 0.0647 - val_accuracy: 0.9802\n",
      "Epoch 19/25\n",
      "469/469 [==============================] - 6s 14ms/step - loss: 0.0382 - accuracy: 0.9888 - val_loss: 0.0654 - val_accuracy: 0.9796\n",
      "Epoch 20/25\n",
      "469/469 [==============================] - 7s 14ms/step - loss: 0.0356 - accuracy: 0.9896 - val_loss: 0.0642 - val_accuracy: 0.9813\n",
      "Epoch 21/25\n",
      "469/469 [==============================] - 6s 13ms/step - loss: 0.0324 - accuracy: 0.9906 - val_loss: 0.0639 - val_accuracy: 0.9815\n",
      "Epoch 22/25\n",
      "469/469 [==============================] - 7s 15ms/step - loss: 0.0300 - accuracy: 0.9912 - val_loss: 0.0650 - val_accuracy: 0.9814\n",
      "Epoch 23/25\n",
      "469/469 [==============================] - 7s 15ms/step - loss: 0.0283 - accuracy: 0.9917 - val_loss: 0.0621 - val_accuracy: 0.9813\n",
      "Epoch 24/25\n",
      "469/469 [==============================] - 7s 16ms/step - loss: 0.0271 - accuracy: 0.9919 - val_loss: 0.0633 - val_accuracy: 0.9824\n",
      "Epoch 25/25\n",
      "469/469 [==============================] - 7s 16ms/step - loss: 0.0252 - accuracy: 0.9929 - val_loss: 0.0622 - val_accuracy: 0.9817\n",
      "\n",
      "Test loss: 0.0621875561773777\n",
      "Test accuracy: 0.9817000031471252\n"
     ]
    },
    {
     "data": {
      "image/png": "[encoded data removed]",
      "text/plain": [
       "<Figure size 864x432 with 2 Axes>"
      ]
     },
     "metadata": {
      "needs_background": "light"
     },
     "output_type": "display_data"
    }
   ],
   "source": [
    "batch_size = 128\n",
    "epochs = 25\n",
    "learning_rate = .0001\n",
    "\n",
    "\n",
    "model_3.compile(loss='categorical_crossentropy',\n",
    "              optimizer=RMSprop(lr = .0001),\n",
    "              metrics=['accuracy'])\n",
    "\n",
    "history = model_3.fit(x_train, y_train,\n",
    "                    batch_size=batch_size,\n",
    "                    epochs=epochs,\n",
    "                    verbose=1,\n",
    "                    validation_data=(x_test, y_test))\n",
    "score = model_3.evaluate(x_test, y_test, verbose=0)\n",
    "print('')\n",
    "print('Test loss:', score[0])\n",
    "print('Test accuracy:', score[1])\n",
    "plot_loss_accuracy(history)"
   ]
  },
  {
   "cell_type": "code",
   "execution_count": null,
   "metadata": {},
   "outputs": [],
   "source": []
  },
  {
   "cell_type": "code",
   "execution_count": null,
   "metadata": {},
   "outputs": [],
   "source": []
  }
 ],
 "metadata": {
  "kernelspec": {
   "display_name": "Python 3 (ipykernel)",
   "language": "python",
   "name": "python3"
  },
  "language_info": {
   "codemirror_mode": {
    "name": "ipython",
    "version": 3
   },
   "file_extension": ".py",
   "mimetype": "text/x-python",
   "name": "python",
   "nbconvert_exporter": "python",
   "pygments_lexer": "ipython3",
   "version": "3.9.12"
  }
 },
 "nbformat": 4,
 "nbformat_minor": 4
}
